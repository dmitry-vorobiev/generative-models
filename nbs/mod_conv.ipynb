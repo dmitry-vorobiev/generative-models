{
 "cells": [
  {
   "cell_type": "code",
   "execution_count": 1,
   "metadata": {},
   "outputs": [],
   "source": [
    "import sys\n",
    "\n",
    "import numpy as np\n",
    "import math\n",
    "\n",
    "import torch\n",
    "import torch.nn.functional as F\n",
    "\n",
    "from torch import nn, Tensor"
   ]
  },
  {
   "cell_type": "code",
   "execution_count": 2,
   "metadata": {},
   "outputs": [],
   "source": [
    "sys.path.insert(0, '../src')"
   ]
  },
  {
   "cell_type": "code",
   "execution_count": 3,
   "metadata": {},
   "outputs": [],
   "source": [
    "from models.stylegan2.layers import EqualConv2d, EqualLinear, EqualLeakyReLU, \\\n",
    "    ModulatedConv2d, RandomGaussianNoise\n",
    "\n",
    "from models.stylegan2.net import Layer, ToRGB, Input, SynthesisNet, MappingNet"
   ]
  },
  {
   "cell_type": "code",
   "execution_count": 4,
   "metadata": {},
   "outputs": [],
   "source": [
    "import random"
   ]
  },
  {
   "cell_type": "code",
   "execution_count": 5,
   "metadata": {},
   "outputs": [],
   "source": [
    "class Generator(nn.Module):\n",
    "    def __init__(self, mapping: MappingNet, synthesis: SynthesisNet, p_style_mix=0.9):\n",
    "        super(Generator, self).__init__()\n",
    "        self.mapping = mapping\n",
    "        self.synthesis = synthesis\n",
    "        self.p_style_mix = p_style_mix\n",
    "        \n",
    "    @property\n",
    "    def num_layers(self): return self.synthesis.num_layers \n",
    "        \n",
    "    def mix_styles(self, z1: Tensor, y: Tensor, w1: Tensor):\n",
    "        num_layers = self.num_layers\n",
    "        \n",
    "        if random.uniform(0, 1) < self.p_style_mix:\n",
    "            mix_cutoff = int(random.uniform(1, num_layers))\n",
    "        else:\n",
    "            mix_cutoff = num_layers\n",
    "        \n",
    "        z2 = torch.randn_like(z1)\n",
    "        w2 = self.mapping(z2, y)\n",
    "        mask = torch.arange(num_layers)[:, None, None] < mix_cutoff\n",
    "        return torch.where(mask, w1, w2)\n",
    "        \n",
    "    def forward(self, z, y=None):\n",
    "        w = self.mapping(z, y)\n",
    "        if w.ndim == 2:\n",
    "            w = w.expand(self.num_layers, -1, -1)\n",
    "        if self.p_style_mix is not None:\n",
    "            w = self.mix_styles(z, y, w)\n",
    "        out = self.synthesis(w)\n",
    "        return out"
   ]
  },
  {
   "cell_type": "code",
   "execution_count": 6,
   "metadata": {},
   "outputs": [],
   "source": [
    "latent_dim = 16\n",
    "style_dim = 16\n",
    "\n",
    "synthesis = SynthesisNet(\n",
    "    img_res=32,\n",
    "    fmap_base=2 << 5,\n",
    "    style_dim=style_dim\n",
    ")\n",
    "\n",
    "mapping = MappingNet(\n",
    "    latent_dim=latent_dim,\n",
    "    label_dim=1,\n",
    "    style_dim=style_dim,\n",
    "    num_layers=3,\n",
    "    hidden_dim=16\n",
    ")\n",
    "\n",
    "g = Generator(mapping, synthesis, p_style_mix=0.9)"
   ]
  },
  {
   "cell_type": "code",
   "execution_count": 7,
   "metadata": {},
   "outputs": [
    {
     "data": {
      "text/plain": [
       "torch.Size([3, 3, 32, 32])"
      ]
     },
     "execution_count": 7,
     "metadata": {},
     "output_type": "execute_result"
    }
   ],
   "source": [
    "N = 3\n",
    "z = torch.rand(N, latent_dim)\n",
    "y = torch.rand(N, 1)\n",
    "g(z, y).shape"
   ]
  }
 ],
 "metadata": {
  "kernelspec": {
   "display_name": "Python [conda env:latest] *",
   "language": "python",
   "name": "conda-env-latest-py"
  },
  "language_info": {
   "codemirror_mode": {
    "name": "ipython",
    "version": 3
   },
   "file_extension": ".py",
   "mimetype": "text/x-python",
   "name": "python",
   "nbconvert_exporter": "python",
   "pygments_lexer": "ipython3",
   "version": "3.7.7"
  }
 },
 "nbformat": 4,
 "nbformat_minor": 4
}
