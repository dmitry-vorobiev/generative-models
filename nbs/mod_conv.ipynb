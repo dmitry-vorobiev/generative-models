{
 "cells": [
  {
   "cell_type": "code",
   "execution_count": 1,
   "metadata": {},
   "outputs": [],
   "source": [
    "import numpy as np\n",
    "import math\n",
    "\n",
    "import torch\n",
    "import torch.nn.functional as F\n",
    "\n",
    "from torch import nn, Tensor"
   ]
  },
  {
   "cell_type": "code",
   "execution_count": 2,
   "metadata": {},
   "outputs": [],
   "source": [
    "c = nn.Conv2d(2, 8, kernel_size=(3,4), padding=1)"
   ]
  },
  {
   "cell_type": "code",
   "execution_count": 3,
   "metadata": {},
   "outputs": [
    {
     "data": {
      "text/plain": [
       "torch.Size([8, 2, 3, 4])"
      ]
     },
     "execution_count": 3,
     "metadata": {},
     "output_type": "execute_result"
    }
   ],
   "source": [
    "# O, I, H, W\n",
    "c.weight.shape"
   ]
  },
  {
   "cell_type": "code",
   "execution_count": 4,
   "metadata": {},
   "outputs": [],
   "source": [
    "# def dense_layer(x, fmaps, gain=1, use_wscale=True, lrmul=1, weight_var='weight'):\n",
    "#     if len(x.shape) > 2:\n",
    "#         x = tf.reshape(x, [-1, np.prod([d.value for d in x.shape[1:]])])\n",
    "#     w = get_weight([x.shape[1].value, fmaps], gain=gain, use_wscale=use_wscale, \n",
    "#                    lrmul=lrmul, weight_var=weight_var)\n",
    "#     w = tf.cast(w, x.dtype)\n",
    "#     return tf.matmul(x, w)"
   ]
  },
  {
   "cell_type": "code",
   "execution_count": 5,
   "metadata": {},
   "outputs": [],
   "source": [
    "class EqualLinear(nn.Module):\n",
    "    def __init__(self, in_features: int, out_features: int, bias=True, \n",
    "                 scale_weights=True, lr_mult=1.):\n",
    "        super().__init__()\n",
    "        self.in_features = in_features\n",
    "        self.out_features = out_features\n",
    "        self.weight = nn.Parameter(torch.Tensor(out_features, in_features))  \n",
    "        if bias:\n",
    "            self.bias = nn.Parameter(torch.Tensor(out_features))\n",
    "        else:\n",
    "            self.register_parameter('bias', None)\n",
    "        self.lr_mult = lr_mult\n",
    "        self.reset_parameters(scale_weights)\n",
    "            \n",
    "    def reset_parameters(self, scale_weights: bool):\n",
    "        he_std = 1.0 / math.sqrt(self.in_features)\n",
    "        \n",
    "        if scale_weights:\n",
    "            init_std = 1.0 / self.lr_mult\n",
    "            self.scale = he_std * self.lr_mult\n",
    "        else:\n",
    "            init_std = he_std / self.lr_mult\n",
    "            self.scale = self.lr_mult\n",
    "            \n",
    "        nn.init.normal_(self.weight, mean=0.0, std=init_std)\n",
    "        if self.bias is not None:\n",
    "            nn.init.zeros_(self.bias)\n",
    "        \n",
    "    def forward(self, x):\n",
    "        return F.linear(x, self.weight * self.scale, self.bias)\n",
    "    \n",
    "    def extra_repr(self):\n",
    "        return 'in_features={}, out_features={}, bias={}'.format(\n",
    "            self.in_features, self.out_features, self.bias is not None)"
   ]
  },
  {
   "cell_type": "code",
   "execution_count": 6,
   "metadata": {},
   "outputs": [
    {
     "data": {
      "text/plain": [
       "EqualLinear(in_features=4, out_features=8, bias=True)"
      ]
     },
     "execution_count": 6,
     "metadata": {},
     "output_type": "execute_result"
    }
   ],
   "source": [
    "el = EqualLinear(4, 8); el"
   ]
  },
  {
   "cell_type": "code",
   "execution_count": 7,
   "metadata": {},
   "outputs": [
    {
     "data": {
      "text/plain": [
       "torch.Size([11, 8])"
      ]
     },
     "execution_count": 7,
     "metadata": {},
     "output_type": "execute_result"
    }
   ],
   "source": [
    "el(torch.randn(11, 4)).shape"
   ]
  }
 ],
 "metadata": {
  "kernelspec": {
   "display_name": "Python [conda env:latest] *",
   "language": "python",
   "name": "conda-env-latest-py"
  },
  "language_info": {
   "codemirror_mode": {
    "name": "ipython",
    "version": 3
   },
   "file_extension": ".py",
   "mimetype": "text/x-python",
   "name": "python",
   "nbconvert_exporter": "python",
   "pygments_lexer": "ipython3",
   "version": "3.7.7"
  }
 },
 "nbformat": 4,
 "nbformat_minor": 4
}
