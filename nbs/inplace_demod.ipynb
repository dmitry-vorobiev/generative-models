{
 "cells": [
  {
   "cell_type": "code",
   "execution_count": 1,
   "metadata": {},
   "outputs": [],
   "source": [
    "import torch\n",
    "import torch.nn.functional as F\n",
    "\n",
    "from torch import nn, Tensor\n",
    "from typing import Any, Callable, Optional"
   ]
  },
  {
   "cell_type": "code",
   "execution_count": 2,
   "metadata": {},
   "outputs": [],
   "source": [
    "def _modulate(weight: Tensor, style: Tensor, transposed=False) -> Tensor:\n",
    "    w = weight[None, :]  # batch dim\n",
    "    # out channels dim: 1 - normal, 2 - transposed\n",
    "    C_out = 1 + int(transposed)\n",
    "    s = style.unsqueeze(C_out)\n",
    "    s = s[:, :, :, None, None]\n",
    "    return w * s\n",
    "\n",
    "\n",
    "def _demodulate(w: Tensor, eps=1e-8, inplace=False, transposed=False) -> Tensor:\n",
    "    # in channels dim: 2 - normal, 1 - transposed\n",
    "    C_in = 2 - int(transposed)\n",
    "    if inplace:\n",
    "        d = torch.rsqrt_(w.pow(2).sum(dim=(C_in, 3, 4), keepdim=True).add_(eps))\n",
    "    else:\n",
    "        d = torch.rsqrt(w.pow(2).sum(dim=(C_in, 3, 4), keepdim=True) + eps)\n",
    "    return w * d"
   ]
  },
  {
   "cell_type": "code",
   "execution_count": 3,
   "metadata": {},
   "outputs": [],
   "source": [
    "w1 = nn.Parameter(torch.randn(4, 2, 10, 10))"
   ]
  },
  {
   "cell_type": "code",
   "execution_count": 4,
   "metadata": {},
   "outputs": [],
   "source": [
    "w2 = nn.Parameter(w1.clone().detach())"
   ]
  },
  {
   "cell_type": "code",
   "execution_count": 5,
   "metadata": {},
   "outputs": [],
   "source": [
    "s = torch.randn(3,2)\n",
    "\n",
    "s1 = nn.Parameter(s.clone().detach())\n",
    "s2 = nn.Parameter(s.clone().detach())"
   ]
  },
  {
   "cell_type": "code",
   "execution_count": 6,
   "metadata": {},
   "outputs": [],
   "source": [
    "out1 = _demodulate(_modulate(w1, s1), inplace=False)"
   ]
  },
  {
   "cell_type": "code",
   "execution_count": 7,
   "metadata": {},
   "outputs": [],
   "source": [
    "out2 = _demodulate(_modulate(w2, s2), inplace=True)"
   ]
  },
  {
   "cell_type": "code",
   "execution_count": 8,
   "metadata": {},
   "outputs": [],
   "source": [
    "out1.mean().backward()\n",
    "# w1.grad"
   ]
  },
  {
   "cell_type": "code",
   "execution_count": 9,
   "metadata": {},
   "outputs": [],
   "source": [
    "out2.mean().backward()\n",
    "# w2.grad"
   ]
  },
  {
   "cell_type": "code",
   "execution_count": 10,
   "metadata": {},
   "outputs": [
    {
     "data": {
      "text/plain": [
       "(tensor([[-8.2377e-05,  1.2515e-04],\n",
       "         [-5.3348e-05, -1.3873e-04],\n",
       "         [-1.3474e-03, -9.1153e-04]]),\n",
       " tensor([[-8.2377e-05,  1.2515e-04],\n",
       "         [-5.3348e-05, -1.3873e-04],\n",
       "         [-1.3474e-03, -9.1153e-04]]))"
      ]
     },
     "execution_count": 10,
     "metadata": {},
     "output_type": "execute_result"
    }
   ],
   "source": [
    "s1.grad, s2.grad"
   ]
  },
  {
   "cell_type": "code",
   "execution_count": 11,
   "metadata": {},
   "outputs": [
    {
     "data": {
      "text/plain": [
       "True"
      ]
     },
     "execution_count": 11,
     "metadata": {},
     "output_type": "execute_result"
    }
   ],
   "source": [
    "(s1.grad == s2.grad).all().item()"
   ]
  },
  {
   "cell_type": "code",
   "execution_count": 12,
   "metadata": {},
   "outputs": [
    {
     "data": {
      "text/plain": [
       "True"
      ]
     },
     "execution_count": 12,
     "metadata": {},
     "output_type": "execute_result"
    }
   ],
   "source": [
    "(w1.grad == w2.grad).all().item()"
   ]
  },
  {
   "cell_type": "code",
   "execution_count": 13,
   "metadata": {},
   "outputs": [],
   "source": [
    "import torch.autograd.profiler as P"
   ]
  },
  {
   "cell_type": "code",
   "execution_count": 14,
   "metadata": {},
   "outputs": [],
   "source": [
    "def benchmark(n_iter, inplace, n_warm=50, N=32, C0=16, C1=32, device=None):\n",
    "    def _generate_w_s():\n",
    "        w = torch.randn(C1, C0, 3, 3, requires_grad=True, device=device)\n",
    "        s = torch.randn(N, C0, requires_grad=True, device=device)\n",
    "        return w, s\n",
    "    \n",
    "    for _ in range(n_warm):\n",
    "        w, s = _generate_w_s()\n",
    "        out = _demodulate(_modulate(w, s), inplace).mean()\n",
    "        out.backward()\n",
    "    \n",
    "    with P.profile(use_cuda=True) as prof:\n",
    "        for _ in range(n_iter):\n",
    "            w, s = _generate_w_s()\n",
    "            \n",
    "            with P.record_function(\"forward\"):\n",
    "                out = _demodulate(_modulate(w, s), inplace).mean()\n",
    "                \n",
    "            with P.record_function(\"backward\"):\n",
    "                out.backward()\n",
    "                \n",
    "    print(prof.key_averages().table(sort_by=\"cuda_time\"))"
   ]
  },
  {
   "cell_type": "code",
   "execution_count": 15,
   "metadata": {},
   "outputs": [],
   "source": [
    "device = torch.device('cuda:1')"
   ]
  },
  {
   "cell_type": "code",
   "execution_count": 16,
   "metadata": {},
   "outputs": [
    {
     "name": "stdout",
     "output_type": "stream",
     "text": [
      "------------------------------------  ---------------  ---------------  ---------------  ---------------  ---------------  ---------------  ---------------  ---------------  ---------------  \n",
      "Name                                  Self CPU total %  Self CPU total   CPU total %      CPU total        CPU time avg     CUDA total %     CUDA total       CUDA time avg    Number of Calls  \n",
      "------------------------------------  ---------------  ---------------  ---------------  ---------------  ---------------  ---------------  ---------------  ---------------  ---------------  \n",
      "backward                              47.80%           797.710ms        48.12%           803.048ms        803.048us        35.28%           803.065ms        803.065us        1000             \n",
      "forward                               5.70%            95.087ms         16.49%           275.169ms        275.169us        12.09%           275.160ms        275.160us        1000             \n",
      "PowBackward0                          0.98%            16.417ms         3.73%            62.162ms         62.162us         2.73%            62.152ms         62.152us         1000             \n",
      "RsqrtBackward                         1.02%            16.989ms         3.46%            57.671ms         57.671us         2.53%            57.644ms         57.644us         1000             \n",
      "SliceBackward                         4.38%            73.045ms         12.77%           213.041ms        53.260us         9.46%            215.268ms        53.817us         4000             \n",
      "MeanBackward0                         0.87%            14.454ms         2.69%            44.929ms         44.929us         1.94%            44.241ms         44.241us         1000             \n",
      "MulBackward0                          1.50%            25.080ms         4.20%            70.018ms         35.009us         3.11%            70.775ms         35.387us         2000             \n",
      "zeros                                 3.59%            59.913ms         7.22%            120.464ms        30.116us         5.29%            120.398ms        30.100us         4000             \n",
      "div                                   1.28%            21.395ms         1.28%            21.395ms         21.395us         1.01%            23.021ms         23.021us         1000             \n",
      "mean                                  1.36%            22.732ms         1.36%            22.732ms         22.732us         1.00%            22.723ms         22.723us         1000             \n",
      "pow                                   3.13%            52.258ms         3.13%            52.258ms         17.419us         2.34%            53.339ms         17.780us         3000             \n",
      "rsqrt                                 1.02%            16.943ms         1.02%            16.943ms         16.943us         0.75%            16.965ms         16.965us         1000             \n",
      "sum                                   3.26%            54.476ms         3.26%            54.476ms         13.619us         2.94%            66.895ms         16.724us         4000             \n",
      "add                                   1.86%            31.094ms         1.86%            31.094ms         15.547us         1.42%            32.320ms         16.160us         2000             \n",
      "mul                                   8.00%            133.550ms        8.00%            133.550ms        13.355us         6.30%            143.384ms        14.338us         10000            \n",
      "SumBackward1                          0.37%            6.098ms          0.73%            12.200ms         12.200us         0.53%            12.089ms         12.089us         1000             \n",
      "zero_                                 2.47%            41.224ms         2.47%            41.224ms         10.306us         1.92%            43.813ms         10.953us         4000             \n",
      "UnsqueezeBackward0                    1.45%            24.187ms         2.76%            46.034ms         11.508us         1.92%            43.809ms         10.952us         4000             \n",
      "torch::autograd::AccumulateGrad       0.80%            13.376ms         1.20%            19.968ms         9.984us          0.87%            19.873ms         9.936us          2000             \n",
      "unsqueeze                             1.52%            25.412ms         1.52%            25.412ms         6.353us          1.10%            24.990ms         6.247us          4000             \n",
      "expand                                0.71%            11.773ms         0.71%            11.773ms         5.886us          0.52%            11.870ms         5.935us          2000             \n",
      "squeeze                               1.31%            21.847ms         1.31%            21.847ms         5.462us          0.94%            21.380ms         5.345us          4000             \n",
      "slice                                 2.42%            40.407ms         2.42%            40.407ms         5.051us          1.79%            40.735ms         5.092us          8000             \n",
      "torch::autograd::GraphRoot            0.36%            5.978ms          0.36%            5.978ms          5.978us          0.22%            4.974ms          4.974us          1000             \n",
      "empty                                 1.16%            19.327ms         1.16%            19.327ms         4.832us          0.86%            19.505ms         4.876us          4000             \n",
      "profiler::_record_function_exit       0.52%            8.671ms          0.52%            8.671ms          4.335us          0.32%            7.227ms          3.614us          2000             \n",
      "to                                    0.20%            3.408ms          0.20%            3.408ms          3.408us          0.15%            3.410ms          3.410us          1000             \n",
      "detach                                0.40%            6.592ms          0.40%            6.592ms          3.296us          0.29%            6.596ms          3.298us          2000             \n",
      "AddBackward0                          0.19%            3.150ms          0.19%            3.150ms          3.150us          0.13%            3.050ms          3.050us          1000             \n",
      "profiler::_record_function_enter      0.37%            6.168ms          0.37%            6.168ms          3.084us          0.26%            5.900ms          2.950us          2000             \n",
      "------------------------------------  ---------------  ---------------  ---------------  ---------------  ---------------  ---------------  ---------------  ---------------  ---------------  \n",
      "Self CPU time total: 1.669s\n",
      "CUDA time total: 2.277s\n",
      "\n"
     ]
    }
   ],
   "source": [
    "benchmark(1000, False, device=device)"
   ]
  },
  {
   "cell_type": "code",
   "execution_count": 17,
   "metadata": {},
   "outputs": [
    {
     "name": "stdout",
     "output_type": "stream",
     "text": [
      "------------------------------------  ---------------  ---------------  ---------------  ---------------  ---------------  ---------------  ---------------  ---------------  ---------------  \n",
      "Name                                  Self CPU total %  Self CPU total   CPU total %      CPU total        CPU time avg     CUDA total %     CUDA total       CUDA time avg    Number of Calls  \n",
      "------------------------------------  ---------------  ---------------  ---------------  ---------------  ---------------  ---------------  ---------------  ---------------  ---------------  \n",
      "backward                              47.82%           796.403ms        48.10%           801.112ms        801.112us        35.29%           803.477ms        803.477us        1000             \n",
      "forward                               5.83%            97.087ms         16.52%           275.207ms        275.207us        12.08%           275.082ms        275.082us        1000             \n",
      "PowBackward0                          0.97%            16.116ms         3.69%            61.448ms         61.448us         2.70%            61.553ms         61.553us         1000             \n",
      "RsqrtBackward                         1.00%            16.621ms         3.42%            56.885ms         56.885us         2.50%            56.843ms         56.843us         1000             \n",
      "SliceBackward                         4.30%            71.610ms         11.42%           190.188ms        47.547us         8.45%            192.481ms        48.120us         4000             \n",
      "MeanBackward0                         0.85%            14.166ms         2.65%            44.064ms         44.064us         1.91%            43.582ms         43.582us         1000             \n",
      "MulBackward0                          1.48%            24.568ms         4.14%            68.884ms         34.442us         3.06%            69.767ms         34.884us         2000             \n",
      "zeros                                 2.33%            38.883ms         5.95%            99.157ms         24.789us         4.35%            99.034ms         24.759us         4000             \n",
      "torch::autograd::AccumulateGrad       0.79%            13.198ms         2.83%            47.199ms         23.600us         2.07%            47.083ms         23.541us         2000             \n",
      "div                                   1.27%            21.125ms         1.27%            21.125ms         21.125us         1.00%            22.845ms         22.845us         1000             \n",
      "mean                                  1.36%            22.675ms         1.36%            22.675ms         22.675us         0.94%            21.391ms         21.391us         1000             \n",
      "rsqrt                                 0.97%            16.131ms         0.97%            16.131ms         16.131us         0.78%            17.790ms         17.790us         1000             \n",
      "pow                                   3.11%            51.875ms         3.11%            51.875ms         17.292us         2.29%            52.126ms         17.375us         3000             \n",
      "detach                                2.04%            34.001ms         2.04%            34.001ms         17.000us         1.50%            34.086ms         17.043us         2000             \n",
      "sum                                   3.18%            52.992ms         3.18%            52.992ms         13.248us         2.84%            64.587ms         16.147us         4000             \n",
      "add                                   1.84%            30.718ms         1.84%            30.718ms         15.359us         1.38%            31.382ms         15.691us         2000             \n",
      "mul                                   7.96%            132.539ms        7.96%            132.539ms        13.254us         6.36%            144.790ms        14.479us         10000            \n",
      "SumBackward1                          0.36%            5.994ms          0.73%            12.122ms         12.122us         0.53%            12.041ms         12.041us         1000             \n",
      "zero_                                 2.48%            41.308ms         2.48%            41.308ms         10.327us         1.93%            43.918ms         10.979us         4000             \n",
      "UnsqueezeBackward0                    1.42%            23.635ms         2.70%            44.966ms         11.241us         1.87%            42.570ms         10.643us         4000             \n",
      "unsqueeze                             1.53%            25.409ms         1.53%            25.409ms         6.352us          1.09%            24.827ms         6.207us          4000             \n",
      "expand                                0.69%            11.545ms         0.69%            11.545ms         5.772us          0.51%            11.646ms         5.823us          2000             \n",
      "squeeze                               1.28%            21.331ms         1.28%            21.331ms         5.333us          0.91%            20.722ms         5.181us          4000             \n",
      "slice                                 2.41%            40.134ms         2.41%            40.134ms         5.017us          1.78%            40.439ms         5.055us          8000             \n",
      "empty                                 1.14%            18.967ms         1.14%            18.967ms         4.742us          0.84%            19.202ms         4.800us          4000             \n",
      "torch::autograd::GraphRoot            0.29%            4.807ms          0.29%            4.807ms          4.807us          0.16%            3.622ms          3.622us          1000             \n",
      "profiler::_record_function_enter      0.43%            7.172ms          0.43%            7.172ms          3.586us          0.32%            7.180ms          3.590us          2000             \n",
      "to                                    0.20%            3.356ms          0.20%            3.356ms          3.356us          0.15%            3.329ms          3.329us          1000             \n",
      "profiler::_record_function_exit       0.48%            8.053ms          0.48%            8.053ms          4.027us          0.28%            6.462ms          3.231us          2000             \n",
      "AddBackward0                          0.19%            3.100ms          0.19%            3.100ms          3.100us          0.13%            3.028ms          3.028us          1000             \n",
      "------------------------------------  ---------------  ---------------  ---------------  ---------------  ---------------  ---------------  ---------------  ---------------  ---------------  \n",
      "Self CPU time total: 1.666s\n",
      "CUDA time total: 2.277s\n",
      "\n"
     ]
    }
   ],
   "source": [
    "benchmark(1000, True, device=device)"
   ]
  }
 ],
 "metadata": {
  "kernelspec": {
   "display_name": "Python [conda env:latest] *",
   "language": "python",
   "name": "conda-env-latest-py"
  },
  "language_info": {
   "codemirror_mode": {
    "name": "ipython",
    "version": 3
   },
   "file_extension": ".py",
   "mimetype": "text/x-python",
   "name": "python",
   "nbconvert_exporter": "python",
   "pygments_lexer": "ipython3",
   "version": "3.7.7"
  }
 },
 "nbformat": 4,
 "nbformat_minor": 4
}
