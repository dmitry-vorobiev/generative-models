{
 "cells": [
  {
   "cell_type": "code",
   "execution_count": 1,
   "metadata": {},
   "outputs": [],
   "source": [
    "import torch\n",
    "import torch.nn.functional as F\n",
    "\n",
    "from torch import nn, Tensor\n",
    "from typing import Any, Callable, Optional"
   ]
  },
  {
   "cell_type": "code",
   "execution_count": 2,
   "metadata": {},
   "outputs": [],
   "source": [
    "w1 = nn.Parameter(torch.randn(4, 2, 10, 10))"
   ]
  },
  {
   "cell_type": "code",
   "execution_count": 3,
   "metadata": {},
   "outputs": [],
   "source": [
    "w2 = nn.Parameter(w1.clone().detach())"
   ]
  },
  {
   "cell_type": "code",
   "execution_count": 4,
   "metadata": {},
   "outputs": [],
   "source": [
    "def _modulate(weight: Tensor, style: Tensor, transposed=False) -> Tensor:\n",
    "    w = weight[None, :]  # batch dim\n",
    "    # out channels dim: 1 - normal, 2 - transposed\n",
    "    C_out = 1 + int(transposed)\n",
    "    s = style.unsqueeze(C_out)\n",
    "    s = s[:, :, :, None, None]\n",
    "    return w * s\n",
    "\n",
    "\n",
    "def _demodulate(w: Tensor, eps=1e-8, inplace=False, transposed=False) -> Tensor:\n",
    "    # in channels dim: 2 - normal, 1 - transposed\n",
    "    C_in = 2 - int(transposed)\n",
    "    if inplace:\n",
    "        d = torch.rsqrt_(w.pow(2).sum(dim=(C_in, 3, 4), keepdim=True).add_(eps))\n",
    "    else:\n",
    "        d = torch.rsqrt(w.pow(2).sum(dim=(C_in, 3, 4), keepdim=True) + eps)\n",
    "    return w * d"
   ]
  },
  {
   "cell_type": "code",
   "execution_count": 5,
   "metadata": {},
   "outputs": [],
   "source": [
    "s = torch.randn(3,2)\n",
    "\n",
    "s1 = nn.Parameter(s.clone().detach())\n",
    "s2 = nn.Parameter(s.clone().detach())"
   ]
  },
  {
   "cell_type": "code",
   "execution_count": 6,
   "metadata": {},
   "outputs": [],
   "source": [
    "out1 = _demodulate(_modulate(w1, s1), inplace=False)"
   ]
  },
  {
   "cell_type": "code",
   "execution_count": 7,
   "metadata": {},
   "outputs": [],
   "source": [
    "out2 = _demodulate(_modulate(w2, s2), inplace=True)"
   ]
  },
  {
   "cell_type": "code",
   "execution_count": 8,
   "metadata": {},
   "outputs": [],
   "source": [
    "out1.mean().backward()\n",
    "# w1.grad"
   ]
  },
  {
   "cell_type": "code",
   "execution_count": 9,
   "metadata": {},
   "outputs": [],
   "source": [
    "out2.mean().backward()\n",
    "# w2.grad"
   ]
  },
  {
   "cell_type": "code",
   "execution_count": 10,
   "metadata": {},
   "outputs": [
    {
     "data": {
      "text/plain": [
       "(tensor([[-4.4983e-04,  7.0795e-04],\n",
       "         [-3.7993e-05, -3.1789e-04],\n",
       "         [-7.0059e-04, -1.7370e-03]]),\n",
       " tensor([[-4.4983e-04,  7.0795e-04],\n",
       "         [-3.7993e-05, -3.1789e-04],\n",
       "         [-7.0059e-04, -1.7370e-03]]))"
      ]
     },
     "execution_count": 10,
     "metadata": {},
     "output_type": "execute_result"
    }
   ],
   "source": [
    "s1.grad, s2.grad"
   ]
  },
  {
   "cell_type": "code",
   "execution_count": 11,
   "metadata": {},
   "outputs": [
    {
     "data": {
      "text/plain": [
       "True"
      ]
     },
     "execution_count": 11,
     "metadata": {},
     "output_type": "execute_result"
    }
   ],
   "source": [
    "(s1.grad == s2.grad).all().item()"
   ]
  },
  {
   "cell_type": "code",
   "execution_count": 12,
   "metadata": {},
   "outputs": [
    {
     "data": {
      "text/plain": [
       "True"
      ]
     },
     "execution_count": 12,
     "metadata": {},
     "output_type": "execute_result"
    }
   ],
   "source": [
    "(w1.grad == w2.grad).all().item()"
   ]
  }
 ],
 "metadata": {
  "kernelspec": {
   "display_name": "Python [conda env:latest] *",
   "language": "python",
   "name": "conda-env-latest-py"
  },
  "language_info": {
   "codemirror_mode": {
    "name": "ipython",
    "version": 3
   },
   "file_extension": ".py",
   "mimetype": "text/x-python",
   "name": "python",
   "nbconvert_exporter": "python",
   "pygments_lexer": "ipython3",
   "version": "3.7.7"
  }
 },
 "nbformat": 4,
 "nbformat_minor": 4
}
