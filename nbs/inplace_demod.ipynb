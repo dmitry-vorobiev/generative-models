{
 "cells": [
  {
   "cell_type": "code",
   "execution_count": 1,
   "metadata": {},
   "outputs": [],
   "source": [
    "import torch\n",
    "import torch.nn.functional as F\n",
    "\n",
    "from torch import nn, Tensor\n",
    "from typing import Any, Callable, Optional"
   ]
  },
  {
   "cell_type": "code",
   "execution_count": 2,
   "metadata": {},
   "outputs": [],
   "source": [
    "def _modulate(weight: Tensor, style: Tensor, transposed=False) -> Tensor:\n",
    "    w = weight[None, :]  # batch dim\n",
    "    # out channels dim: 1 - normal, 2 - transposed\n",
    "    C_out = 1 + int(transposed)\n",
    "    s = style.unsqueeze(C_out)\n",
    "    s = s[:, :, :, None, None]\n",
    "    return w * s\n",
    "\n",
    "\n",
    "def _demodulate(w: Tensor, eps=1e-8, inplace=False, transposed=False) -> Tensor:\n",
    "    # in channels dim: 2 - normal, 1 - transposed\n",
    "    C_in = 2 - int(transposed)\n",
    "    if inplace:\n",
    "        d = torch.rsqrt_(w.pow(2).sum(dim=(C_in, 3, 4), keepdim=True).add_(eps))\n",
    "    else:\n",
    "        d = torch.rsqrt(w.pow(2).sum(dim=(C_in, 3, 4), keepdim=True) + eps)\n",
    "    return w * d"
   ]
  },
  {
   "cell_type": "code",
   "execution_count": 3,
   "metadata": {},
   "outputs": [],
   "source": [
    "w1 = nn.Parameter(torch.randn(4, 2, 10, 10))"
   ]
  },
  {
   "cell_type": "code",
   "execution_count": 4,
   "metadata": {},
   "outputs": [],
   "source": [
    "w2 = nn.Parameter(w1.clone().detach())"
   ]
  },
  {
   "cell_type": "code",
   "execution_count": 5,
   "metadata": {},
   "outputs": [],
   "source": [
    "s = torch.randn(3,2)\n",
    "\n",
    "s1 = nn.Parameter(s.clone().detach())\n",
    "s2 = nn.Parameter(s.clone().detach())"
   ]
  },
  {
   "cell_type": "code",
   "execution_count": 6,
   "metadata": {},
   "outputs": [],
   "source": [
    "out1 = _demodulate(_modulate(w1, s1), inplace=False)"
   ]
  },
  {
   "cell_type": "code",
   "execution_count": 7,
   "metadata": {},
   "outputs": [],
   "source": [
    "out2 = _demodulate(_modulate(w2, s2), inplace=True)"
   ]
  },
  {
   "cell_type": "code",
   "execution_count": 8,
   "metadata": {},
   "outputs": [],
   "source": [
    "out1.mean().backward()\n",
    "# w1.grad"
   ]
  },
  {
   "cell_type": "code",
   "execution_count": 9,
   "metadata": {},
   "outputs": [],
   "source": [
    "out2.mean().backward()\n",
    "# w2.grad"
   ]
  },
  {
   "cell_type": "code",
   "execution_count": 10,
   "metadata": {},
   "outputs": [
    {
     "data": {
      "text/plain": [
       "(tensor([[-7.4626e-04,  5.4799e-04],\n",
       "         [ 4.5596e-05, -4.7382e-06],\n",
       "         [ 4.0299e-04,  4.2420e-04]]),\n",
       " tensor([[-7.4626e-04,  5.4799e-04],\n",
       "         [ 4.5596e-05, -4.7382e-06],\n",
       "         [ 4.0299e-04,  4.2420e-04]]))"
      ]
     },
     "execution_count": 10,
     "metadata": {},
     "output_type": "execute_result"
    }
   ],
   "source": [
    "s1.grad, s2.grad"
   ]
  },
  {
   "cell_type": "code",
   "execution_count": 11,
   "metadata": {},
   "outputs": [
    {
     "data": {
      "text/plain": [
       "True"
      ]
     },
     "execution_count": 11,
     "metadata": {},
     "output_type": "execute_result"
    }
   ],
   "source": [
    "(s1.grad == s2.grad).all().item()"
   ]
  },
  {
   "cell_type": "code",
   "execution_count": 12,
   "metadata": {},
   "outputs": [
    {
     "data": {
      "text/plain": [
       "True"
      ]
     },
     "execution_count": 12,
     "metadata": {},
     "output_type": "execute_result"
    }
   ],
   "source": [
    "(w1.grad == w2.grad).all().item()"
   ]
  },
  {
   "cell_type": "code",
   "execution_count": 13,
   "metadata": {},
   "outputs": [],
   "source": [
    "import torch.autograd.profiler as P"
   ]
  },
  {
   "cell_type": "code",
   "execution_count": 14,
   "metadata": {},
   "outputs": [],
   "source": [
    "def benchmark(n_iter, inplace, n_warm=100, N=32, C0=16, C1=32, device=None):\n",
    "    def _generate_w_s():\n",
    "        w = torch.randn(C1, C0, 3, 3, requires_grad=True, device=device)\n",
    "        s = torch.randn(N, C0, requires_grad=True, device=device)\n",
    "        return w, s\n",
    "    \n",
    "    for _ in range(n_warm):\n",
    "        w, s = _generate_w_s()\n",
    "        out = _demodulate(_modulate(w, s), inplace=inplace).mean()\n",
    "        out.backward()\n",
    "    \n",
    "    with P.profile(use_cuda=True) as prof:\n",
    "        for _ in range(n_iter):\n",
    "            w, s = _generate_w_s()\n",
    "            \n",
    "            with P.record_function(\"forward\"):\n",
    "                out = _demodulate(_modulate(w, s), inplace=inplace).mean()\n",
    "                \n",
    "            with P.record_function(\"backward\"):\n",
    "                out.backward()\n",
    "                \n",
    "    print(prof.key_averages().table(sort_by=\"cuda_time\"))"
   ]
  },
  {
   "cell_type": "code",
   "execution_count": 15,
   "metadata": {},
   "outputs": [],
   "source": [
    "device = torch.device('cuda:1')"
   ]
  },
  {
   "cell_type": "code",
   "execution_count": 16,
   "metadata": {},
   "outputs": [
    {
     "name": "stdout",
     "output_type": "stream",
     "text": [
      "------------------------------------  ---------------  ---------------  ---------------  ---------------  ---------------  ---------------  ---------------  ---------------  ---------------  \n",
      "Name                                  Self CPU total %  Self CPU total   CPU total %      CPU total        CPU time avg     CUDA total %     CUDA total       CUDA time avg    Number of Calls  \n",
      "------------------------------------  ---------------  ---------------  ---------------  ---------------  ---------------  ---------------  ---------------  ---------------  ---------------  \n",
      "backward                              47.39%           8.466s           47.71%           8.523s           852.301us        34.82%           8.523s           852.312us        10000            \n",
      "forward                               5.91%            1.055s           17.15%           3.065s           306.483us        12.52%           3.064s           306.376us        10000            \n",
      "PowBackward0                          0.94%            168.535ms        3.65%            651.963ms        65.196us         2.66%            651.783ms        65.178us         10000            \n",
      "RsqrtBackward                         0.97%            173.639ms        3.37%            601.628ms        60.163us         2.46%            601.250ms        60.125us         10000            \n",
      "SliceBackward                         4.11%            734.029ms        12.87%           2.299s           57.468us         9.48%            2.321s           58.023us         40000            \n",
      "MeanBackward0                         0.98%            175.247ms        3.01%            538.447ms        53.845us         2.14%            523.037ms        52.304us         10000            \n",
      "MulBackward0                          1.43%            255.327ms        4.08%            728.873ms        36.444us         3.01%            736.426ms        36.821us         20000            \n",
      "zeros                                 4.16%            742.724ms        7.67%            1.370s           34.240us         5.59%            1.368s           34.198us         40000            \n",
      "div                                   1.32%            236.520ms        1.32%            236.520ms        23.652us         1.03%            252.531ms        25.253us         10000            \n",
      "mean                                  1.39%            248.823ms        1.39%            248.823ms        24.882us         1.02%            249.620ms        24.962us         10000            \n",
      "pow                                   3.21%            574.082ms        3.21%            574.082ms        19.136us         2.39%            585.942ms        19.531us         30000            \n",
      "rsqrt                                 1.05%            187.662ms        1.05%            187.662ms        18.766us         0.77%            188.167ms        18.817us         10000            \n",
      "sum                                   3.25%            581.403ms        3.25%            581.403ms        14.535us         2.88%            705.229ms        17.631us         40000            \n",
      "add                                   1.89%            337.769ms        1.89%            337.769ms        16.888us         1.43%            348.835ms        17.442us         20000            \n",
      "mul                                   8.05%            1.438s           8.05%            1.438s           14.378us         6.28%            1.538s           15.376us         100000           \n",
      "SumBackward1                          0.35%            62.286ms         0.71%            126.212ms        12.621us         0.51%            124.933ms        12.493us         10000            \n",
      "zero_                                 2.44%            436.414ms        2.44%            436.414ms        10.910us         1.88%            460.471ms        11.512us         40000            \n",
      "UnsqueezeBackward0                    1.35%            240.869ms        2.57%            459.165ms        11.479us         1.80%            439.918ms        10.998us         40000            \n",
      "torch::autograd::AccumulateGrad       0.77%            136.958ms        1.14%            203.051ms        10.153us         0.82%            201.868ms        10.093us         20000            \n",
      "expand                                0.86%            153.777ms        0.86%            153.777ms        7.689us          0.63%            153.805ms        7.690us          20000            \n",
      "unsqueeze                             1.59%            283.505ms        1.59%            283.505ms        7.088us          1.14%            279.844ms        6.996us          40000            \n",
      "squeeze                               1.22%            218.295ms        1.22%            218.295ms        5.457us          0.89%            216.929ms        5.423us          40000            \n",
      "slice                                 2.32%            414.541ms        2.32%            414.541ms        5.182us          1.71%            418.938ms        5.237us          80000            \n",
      "empty                                 1.07%            190.459ms        1.07%            190.459ms        4.761us          0.79%            193.094ms        4.827us          40000            \n",
      "torch::autograd::GraphRoot            0.29%            52.012ms         0.29%            52.012ms         5.201us          0.19%            46.198ms         4.620us          10000            \n",
      "profiler::_record_function_exit       0.56%            100.445ms        0.56%            100.445ms        5.022us          0.36%            88.483ms         4.424us          20000            \n",
      "to                                    0.21%            36.829ms         0.21%            36.829ms         3.683us          0.15%            36.687ms         3.669us          10000            \n",
      "detach                                0.37%            66.093ms         0.37%            66.093ms         3.305us          0.27%            66.182ms         3.309us          20000            \n",
      "profiler::_record_function_enter      0.38%            67.004ms         0.38%            67.004ms         3.350us          0.26%            63.367ms         3.168us          20000            \n",
      "AddBackward0                          0.18%            31.407ms         0.18%            31.407ms         3.141us          0.12%            30.570ms         3.057us          10000            \n",
      "------------------------------------  ---------------  ---------------  ---------------  ---------------  ---------------  ---------------  ---------------  ---------------  ---------------  \n",
      "Self CPU time total: 17.866s\n",
      "CUDA time total: 24.477s\n",
      "\n"
     ]
    }
   ],
   "source": [
    "benchmark(10_000, False, device=device)"
   ]
  },
  {
   "cell_type": "code",
   "execution_count": 17,
   "metadata": {},
   "outputs": [
    {
     "name": "stdout",
     "output_type": "stream",
     "text": [
      "------------------------------------  ---------------  ---------------  ---------------  ---------------  ---------------  ---------------  ---------------  ---------------  ---------------  \n",
      "Name                                  Self CPU total %  Self CPU total   CPU total %      CPU total        CPU time avg     CUDA total %     CUDA total       CUDA time avg    Number of Calls  \n",
      "------------------------------------  ---------------  ---------------  ---------------  ---------------  ---------------  ---------------  ---------------  ---------------  ---------------  \n",
      "backward                              47.45%           8.114s           47.70%           8.157s           815.730us        34.71%           8.171s           817.141us        10000            \n",
      "forward                               6.17%            1.055s           16.60%           2.839s           283.886us        12.02%           2.830s           282.955us        10000            \n",
      "PowBackward0                          0.89%            152.518ms        3.45%            590.368ms        59.037us         2.53%            594.611ms        59.461us         10000            \n",
      "RsqrtBackward                         0.92%            157.153ms        3.22%            550.150ms        55.015us         2.34%            549.889ms        54.989us         10000            \n",
      "SliceBackward                         3.92%            670.893ms        10.58%           1.809s           45.225us         7.77%            1.830s           45.741us         40000            \n",
      "torch::autograd::AccumulateGrad       0.75%            127.551ms        5.21%            890.258ms        44.513us         3.78%            888.694ms        44.435us         20000            \n",
      "MeanBackward0                         0.83%            141.138ms        2.58%            440.843ms        44.084us         1.86%            437.907ms        43.791us         10000            \n",
      "detach                                4.46%            762.706ms        4.46%            762.706ms        38.135us         3.25%            764.226ms        38.211us         20000            \n",
      "MulBackward0                          1.35%            231.386ms        3.88%            662.769ms        33.138us         2.87%            676.093ms        33.805us         20000            \n",
      "zeros                                 2.10%            359.797ms        5.59%            956.173ms        23.904us         4.06%            954.538ms        23.863us         40000            \n",
      "mean                                  1.37%            234.963ms        1.37%            234.963ms        23.496us         0.97%            228.224ms        22.822us         10000            \n",
      "div                                   1.21%            206.848ms        1.21%            206.848ms        20.685us         0.97%            227.290ms        22.729us         10000            \n",
      "add_                                  1.09%            187.068ms        1.09%            187.068ms        18.707us         0.78%            184.415ms        18.441us         10000            \n",
      "pow                                   3.02%            515.950ms        3.02%            515.950ms        17.198us         2.21%            521.217ms        17.374us         30000            \n",
      "sum                                   3.08%            526.903ms        3.08%            526.903ms        13.173us         2.74%            644.244ms        16.106us         40000            \n",
      "mul                                   7.70%            1.316s           7.70%            1.316s           13.160us         6.13%            1.444s           14.436us         100000           \n",
      "rsqrt_                                0.75%            128.451ms        0.75%            128.451ms        12.845us         0.56%            132.785ms        13.278us         10000            \n",
      "add                                   0.68%            116.119ms        0.68%            116.119ms        11.612us         0.55%            130.538ms        13.054us         10000            \n",
      "SumBackward1                          0.33%            56.769ms         0.68%            115.569ms        11.557us         0.49%            114.849ms        11.485us         10000            \n",
      "zero_                                 2.45%            419.441ms        2.45%            419.441ms        10.486us         1.88%            443.705ms        11.093us         40000            \n",
      "UnsqueezeBackward0                    1.29%            220.556ms        2.45%            418.587ms        10.465us         1.67%            392.881ms        9.822us          40000            \n",
      "unsqueeze                             1.49%            254.704ms        1.49%            254.704ms        6.368us          1.06%            250.473ms        6.262us          40000            \n",
      "expand                                0.70%            119.345ms        0.70%            119.345ms        5.967us          0.51%            119.884ms        5.994us          20000            \n",
      "slice                                 2.26%            387.228ms        2.26%            387.228ms        4.840us          1.66%            391.877ms        4.898us          80000            \n",
      "squeeze                               1.16%            198.031ms        1.16%            198.031ms        4.951us          0.81%            189.792ms        4.745us          40000            \n",
      "empty                                 1.03%            176.936ms        1.03%            176.936ms        4.423us          0.76%            178.990ms        4.475us          40000            \n",
      "profiler::_record_function_enter      0.48%            81.739ms         0.48%            81.739ms         4.087us          0.37%            88.134ms         4.407us          20000            \n",
      "torch::autograd::GraphRoot            0.25%            43.561ms         0.25%            43.561ms         4.356us          0.15%            34.916ms         3.492us          10000            \n",
      "to                                    0.19%            32.312ms         0.19%            32.312ms         3.231us          0.14%            32.340ms         3.234us          10000            \n",
      "profiler::_record_function_exit       0.45%            76.125ms         0.45%            76.125ms         3.806us          0.27%            64.317ms         3.216us          20000            \n",
      "AddBackward0                          0.17%            28.701ms         0.17%            28.701ms         2.870us          0.12%            27.811ms         2.781us          10000            \n",
      "------------------------------------  ---------------  ---------------  ---------------  ---------------  ---------------  ---------------  ---------------  ---------------  ---------------  \n",
      "Self CPU time total: 17.100s\n",
      "CUDA time total: 23.539s\n",
      "\n"
     ]
    }
   ],
   "source": [
    "benchmark(10_000, True, device=device)"
   ]
  }
 ],
 "metadata": {
  "kernelspec": {
   "display_name": "Python [conda env:latest] *",
   "language": "python",
   "name": "conda-env-latest-py"
  },
  "language_info": {
   "codemirror_mode": {
    "name": "ipython",
    "version": 3
   },
   "file_extension": ".py",
   "mimetype": "text/x-python",
   "name": "python",
   "nbconvert_exporter": "python",
   "pygments_lexer": "ipython3",
   "version": "3.7.7"
  }
 },
 "nbformat": 4,
 "nbformat_minor": 4
}
